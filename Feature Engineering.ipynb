{
 "cells": [
  {
   "cell_type": "code",
   "execution_count": 1,
   "metadata": {},
   "outputs": [],
   "source": [
    "import pandas as pd\n",
    "import matplotlib.pyplot as plt\n",
    "import seaborn as sns\n",
    "import numpy as np"
   ]
  },
  {
   "cell_type": "code",
   "execution_count": 2,
   "metadata": {},
   "outputs": [],
   "source": [
    "df_tperformance = pd.read_csv('Datasets/team_performance_q1.csv')"
   ]
  },
  {
   "cell_type": "code",
   "execution_count": 3,
   "metadata": {},
   "outputs": [
    {
     "data": {
      "text/plain": [
       "(102, 7)"
      ]
     },
     "execution_count": 3,
     "metadata": {},
     "output_type": "execute_result"
    }
   ],
   "source": [
    "df_tperformance.shape"
   ]
  },
  {
   "cell_type": "code",
   "execution_count": 4,
   "metadata": {},
   "outputs": [
    {
     "data": {
      "text/plain": [
       "Index(['Sprint Period', 'Team Member', 'Team Leader', 'Tasks Difficulty Avg',\n",
       "       'Num Assigned Tasks', 'Num Completed Tasks', 'Performance Level'],\n",
       "      dtype='object')"
      ]
     },
     "execution_count": 4,
     "metadata": {},
     "output_type": "execute_result"
    }
   ],
   "source": [
    "df_tperformance.columns"
   ]
  },
  {
   "cell_type": "code",
   "execution_count": 5,
   "metadata": {},
   "outputs": [
    {
     "data": {
      "text/html": [
       "<div>\n",
       "<style scoped>\n",
       "    .dataframe tbody tr th:only-of-type {\n",
       "        vertical-align: middle;\n",
       "    }\n",
       "\n",
       "    .dataframe tbody tr th {\n",
       "        vertical-align: top;\n",
       "    }\n",
       "\n",
       "    .dataframe thead th {\n",
       "        text-align: right;\n",
       "    }\n",
       "</style>\n",
       "<table border=\"1\" class=\"dataframe\">\n",
       "  <thead>\n",
       "    <tr style=\"text-align: right;\">\n",
       "      <th></th>\n",
       "      <th>Sprint Period</th>\n",
       "      <th>Team Member</th>\n",
       "      <th>Team Leader</th>\n",
       "      <th>Tasks Difficulty Avg</th>\n",
       "      <th>Num Assigned Tasks</th>\n",
       "      <th>Num Completed Tasks</th>\n",
       "      <th>Performance Level</th>\n",
       "    </tr>\n",
       "  </thead>\n",
       "  <tbody>\n",
       "    <tr>\n",
       "      <th>0</th>\n",
       "      <td>Jan 1 2019 - Jan 15 2019</td>\n",
       "      <td>Janet Chaves</td>\n",
       "      <td>Ben Fullen</td>\n",
       "      <td>Medium</td>\n",
       "      <td>8</td>\n",
       "      <td>8</td>\n",
       "      <td>Green</td>\n",
       "    </tr>\n",
       "    <tr>\n",
       "      <th>1</th>\n",
       "      <td>Jan 1 2019 - Jan 15 2019</td>\n",
       "      <td>Henry Swansen</td>\n",
       "      <td>Ben Fullen</td>\n",
       "      <td>Medium</td>\n",
       "      <td>8</td>\n",
       "      <td>8</td>\n",
       "      <td>Green</td>\n",
       "    </tr>\n",
       "    <tr>\n",
       "      <th>2</th>\n",
       "      <td>Jan 1 2019 - Jan 15 2019</td>\n",
       "      <td>Yu Li</td>\n",
       "      <td>Ben Fullen</td>\n",
       "      <td>Difficult</td>\n",
       "      <td>6</td>\n",
       "      <td>6</td>\n",
       "      <td>Green</td>\n",
       "    </tr>\n",
       "    <tr>\n",
       "      <th>3</th>\n",
       "      <td>Jan 1 2019 - Jan 15 2019</td>\n",
       "      <td>Bharat Datra</td>\n",
       "      <td>Ben Fullen</td>\n",
       "      <td>Difficult</td>\n",
       "      <td>6</td>\n",
       "      <td>6</td>\n",
       "      <td>Green</td>\n",
       "    </tr>\n",
       "    <tr>\n",
       "      <th>4</th>\n",
       "      <td>Jan 1 2019 - Jan 15 2019</td>\n",
       "      <td>Ali Khalin</td>\n",
       "      <td>Ben Fullen</td>\n",
       "      <td>Medium</td>\n",
       "      <td>8</td>\n",
       "      <td>7</td>\n",
       "      <td>Yellow</td>\n",
       "    </tr>\n",
       "  </tbody>\n",
       "</table>\n",
       "</div>"
      ],
      "text/plain": [
       "              Sprint Period    Team Member Team Leader Tasks Difficulty Avg  \\\n",
       "0  Jan 1 2019 - Jan 15 2019   Janet Chaves  Ben Fullen               Medium   \n",
       "1  Jan 1 2019 - Jan 15 2019  Henry Swansen  Ben Fullen               Medium   \n",
       "2  Jan 1 2019 - Jan 15 2019          Yu Li  Ben Fullen            Difficult   \n",
       "3  Jan 1 2019 - Jan 15 2019   Bharat Datra  Ben Fullen            Difficult   \n",
       "4  Jan 1 2019 - Jan 15 2019     Ali Khalin  Ben Fullen               Medium   \n",
       "\n",
       "   Num Assigned Tasks  Num Completed Tasks Performance Level  \n",
       "0                   8                    8             Green  \n",
       "1                   8                    8             Green  \n",
       "2                   6                    6             Green  \n",
       "3                   6                    6             Green  \n",
       "4                   8                    7            Yellow  "
      ]
     },
     "execution_count": 5,
     "metadata": {},
     "output_type": "execute_result"
    }
   ],
   "source": [
    "df_tperformance.head()"
   ]
  },
  {
   "cell_type": "code",
   "execution_count": null,
   "metadata": {},
   "outputs": [],
   "source": [
    "## scope of the data \n",
    "## what sprints? distribution of the team - team members and team lead? type of tasks and number of tasks per sprint?\n",
    "## factors affecting performance? - number of assigned tasks in a sprint to a person and the difficult level\n",
    "## "
   ]
  },
  {
   "cell_type": "code",
   "execution_count": 12,
   "metadata": {},
   "outputs": [
    {
     "data": {
      "text/plain": [
       "<matplotlib.axes._subplots.AxesSubplot at 0x1a20bd5790>"
      ]
     },
     "execution_count": 12,
     "metadata": {},
     "output_type": "execute_result"
    },
    {
     "data": {
      "image/png": "[encoded data removed]",
      "text/plain": [
       "<Figure size 432x288 with 1 Axes>"
      ]
     },
     "metadata": {},
     "output_type": "display_data"
    }
   ],
   "source": [
    "df_tperformance['Sprint Period'].value_counts().plot(kind = 'pie', autopct='%1.1f%%')"
   ]
  },
  {
   "cell_type": "code",
   "execution_count": 6,
   "metadata": {},
   "outputs": [
    {
     "data": {
      "text/plain": [
       "array(['Jan 1 2019 - Jan 15 2019', 'Jan 16 2019 - Jan 30 2019',\n",
       "       'Jan 31 2019 - Feb 14 2019', 'Feb 15 2019 - Mar 1 2019',\n",
       "       'Mar 2 2019 - Mar 16 2019', 'Mar 17 2019 - Mar 31 2019'],\n",
       "      dtype=object)"
      ]
     },
     "execution_count": 6,
     "metadata": {},
     "output_type": "execute_result"
    }
   ],
   "source": [
    "df_tperformance['Sprint Period'].unique()"
   ]
  },
  {
   "cell_type": "code",
   "execution_count": 8,
   "metadata": {},
   "outputs": [
    {
     "data": {
      "text/plain": [
       "array(['Janet Chaves', 'Henry Swansen', 'Yu Li', 'Bharat Datra',\n",
       "       'Ali Khalin', 'Rachel Braun', 'Don Van Boen', 'Ronal Valen',\n",
       "       'Lucy Yen', 'Marcus Jones', 'Luke Ballen', 'Sithi Bavat',\n",
       "       'Jenny Maree', 'Khalid Jerkson', 'Palat Siv', 'Jonas Anderson',\n",
       "       'Lucas Bane'], dtype=object)"
      ]
     },
     "execution_count": 8,
     "metadata": {},
     "output_type": "execute_result"
    }
   ],
   "source": [
    "df_tperformance['Team Member'].unique()"
   ]
  },
  {
   "cell_type": "code",
   "execution_count": 9,
   "metadata": {},
   "outputs": [
    {
     "data": {
      "text/plain": [
       "array(['Ben Fullen', 'Raymond Freedman', 'Vindi Lan'], dtype=object)"
      ]
     },
     "execution_count": 9,
     "metadata": {},
     "output_type": "execute_result"
    }
   ],
   "source": [
    "df_tperformance['Team Leader'].unique()"
   ]
  },
  {
   "cell_type": "code",
   "execution_count": 10,
   "metadata": {},
   "outputs": [
    {
     "data": {
      "text/plain": [
       "array(['Medium', 'Difficult', 'Easy'], dtype=object)"
      ]
     },
     "execution_count": 10,
     "metadata": {},
     "output_type": "execute_result"
    }
   ],
   "source": [
    "df_tperformance['Tasks Difficulty Avg'].unique()"
   ]
  },
  {
   "cell_type": "code",
   "execution_count": 11,
   "metadata": {},
   "outputs": [
    {
     "data": {
      "text/plain": [
       "array(['Green', 'Yellow', 'Orange', 'Red'], dtype=object)"
      ]
     },
     "execution_count": 11,
     "metadata": {},
     "output_type": "execute_result"
    }
   ],
   "source": [
    "df_tperformance['Performance Level'].unique()"
   ]
  },
  {
   "cell_type": "code",
   "execution_count": 16,
   "metadata": {},
   "outputs": [
    {
     "data": {
      "text/html": [
       "<div>\n",
       "<style scoped>\n",
       "    .dataframe tbody tr th:only-of-type {\n",
       "        vertical-align: middle;\n",
       "    }\n",
       "\n",
       "    .dataframe tbody tr th {\n",
       "        vertical-align: top;\n",
       "    }\n",
       "\n",
       "    .dataframe thead th {\n",
       "        text-align: right;\n",
       "    }\n",
       "</style>\n",
       "<table border=\"1\" class=\"dataframe\">\n",
       "  <thead>\n",
       "    <tr style=\"text-align: right;\">\n",
       "      <th></th>\n",
       "      <th>Sprint Period</th>\n",
       "      <th>Team Member</th>\n",
       "      <th>Team Leader</th>\n",
       "      <th>Tasks Difficulty Avg</th>\n",
       "      <th>Num Assigned Tasks</th>\n",
       "      <th>Num Completed Tasks</th>\n",
       "      <th>Performance Level</th>\n",
       "    </tr>\n",
       "  </thead>\n",
       "  <tbody>\n",
       "    <tr>\n",
       "      <th>0</th>\n",
       "      <td>Jan 1 2019 - Jan 15 2019</td>\n",
       "      <td>Janet Chaves</td>\n",
       "      <td>Ben Fullen</td>\n",
       "      <td>Medium</td>\n",
       "      <td>8</td>\n",
       "      <td>8</td>\n",
       "      <td>Green</td>\n",
       "    </tr>\n",
       "    <tr>\n",
       "      <th>1</th>\n",
       "      <td>Jan 1 2019 - Jan 15 2019</td>\n",
       "      <td>Henry Swansen</td>\n",
       "      <td>Ben Fullen</td>\n",
       "      <td>Medium</td>\n",
       "      <td>8</td>\n",
       "      <td>8</td>\n",
       "      <td>Green</td>\n",
       "    </tr>\n",
       "    <tr>\n",
       "      <th>2</th>\n",
       "      <td>Jan 1 2019 - Jan 15 2019</td>\n",
       "      <td>Yu Li</td>\n",
       "      <td>Ben Fullen</td>\n",
       "      <td>Difficult</td>\n",
       "      <td>6</td>\n",
       "      <td>6</td>\n",
       "      <td>Green</td>\n",
       "    </tr>\n",
       "    <tr>\n",
       "      <th>3</th>\n",
       "      <td>Jan 1 2019 - Jan 15 2019</td>\n",
       "      <td>Bharat Datra</td>\n",
       "      <td>Ben Fullen</td>\n",
       "      <td>Difficult</td>\n",
       "      <td>6</td>\n",
       "      <td>6</td>\n",
       "      <td>Green</td>\n",
       "    </tr>\n",
       "    <tr>\n",
       "      <th>4</th>\n",
       "      <td>Jan 1 2019 - Jan 15 2019</td>\n",
       "      <td>Ali Khalin</td>\n",
       "      <td>Ben Fullen</td>\n",
       "      <td>Medium</td>\n",
       "      <td>8</td>\n",
       "      <td>7</td>\n",
       "      <td>Yellow</td>\n",
       "    </tr>\n",
       "    <tr>\n",
       "      <th>5</th>\n",
       "      <td>Jan 1 2019 - Jan 15 2019</td>\n",
       "      <td>Rachel Braun</td>\n",
       "      <td>Ben Fullen</td>\n",
       "      <td>Difficult</td>\n",
       "      <td>6</td>\n",
       "      <td>6</td>\n",
       "      <td>Green</td>\n",
       "    </tr>\n",
       "    <tr>\n",
       "      <th>6</th>\n",
       "      <td>Jan 1 2019 - Jan 15 2019</td>\n",
       "      <td>Don Van Boen</td>\n",
       "      <td>Ben Fullen</td>\n",
       "      <td>Difficult</td>\n",
       "      <td>6</td>\n",
       "      <td>6</td>\n",
       "      <td>Green</td>\n",
       "    </tr>\n",
       "    <tr>\n",
       "      <th>7</th>\n",
       "      <td>Jan 1 2019 - Jan 15 2019</td>\n",
       "      <td>Ronal Valen</td>\n",
       "      <td>Ben Fullen</td>\n",
       "      <td>Medium</td>\n",
       "      <td>8</td>\n",
       "      <td>8</td>\n",
       "      <td>Green</td>\n",
       "    </tr>\n",
       "    <tr>\n",
       "      <th>8</th>\n",
       "      <td>Jan 1 2019 - Jan 15 2019</td>\n",
       "      <td>Lucy Yen</td>\n",
       "      <td>Raymond Freedman</td>\n",
       "      <td>Medium</td>\n",
       "      <td>8</td>\n",
       "      <td>4</td>\n",
       "      <td>Orange</td>\n",
       "    </tr>\n",
       "    <tr>\n",
       "      <th>9</th>\n",
       "      <td>Jan 1 2019 - Jan 15 2019</td>\n",
       "      <td>Marcus Jones</td>\n",
       "      <td>Raymond Freedman</td>\n",
       "      <td>Difficult</td>\n",
       "      <td>8</td>\n",
       "      <td>1</td>\n",
       "      <td>Red</td>\n",
       "    </tr>\n",
       "    <tr>\n",
       "      <th>10</th>\n",
       "      <td>Jan 1 2019 - Jan 15 2019</td>\n",
       "      <td>Luke Ballen</td>\n",
       "      <td>Raymond Freedman</td>\n",
       "      <td>Difficult</td>\n",
       "      <td>8</td>\n",
       "      <td>2</td>\n",
       "      <td>Red</td>\n",
       "    </tr>\n",
       "    <tr>\n",
       "      <th>11</th>\n",
       "      <td>Jan 1 2019 - Jan 15 2019</td>\n",
       "      <td>Sithi Bavat</td>\n",
       "      <td>Vindi Lan</td>\n",
       "      <td>Medium</td>\n",
       "      <td>9</td>\n",
       "      <td>9</td>\n",
       "      <td>Green</td>\n",
       "    </tr>\n",
       "    <tr>\n",
       "      <th>12</th>\n",
       "      <td>Jan 1 2019 - Jan 15 2019</td>\n",
       "      <td>Jenny Maree</td>\n",
       "      <td>Vindi Lan</td>\n",
       "      <td>Medium</td>\n",
       "      <td>9</td>\n",
       "      <td>9</td>\n",
       "      <td>Green</td>\n",
       "    </tr>\n",
       "    <tr>\n",
       "      <th>13</th>\n",
       "      <td>Jan 1 2019 - Jan 15 2019</td>\n",
       "      <td>Khalid Jerkson</td>\n",
       "      <td>Vindi Lan</td>\n",
       "      <td>Easy</td>\n",
       "      <td>8</td>\n",
       "      <td>5</td>\n",
       "      <td>Orange</td>\n",
       "    </tr>\n",
       "    <tr>\n",
       "      <th>14</th>\n",
       "      <td>Jan 1 2019 - Jan 15 2019</td>\n",
       "      <td>Palat Siv</td>\n",
       "      <td>Vindi Lan</td>\n",
       "      <td>Medium</td>\n",
       "      <td>9</td>\n",
       "      <td>9</td>\n",
       "      <td>Green</td>\n",
       "    </tr>\n",
       "    <tr>\n",
       "      <th>15</th>\n",
       "      <td>Jan 1 2019 - Jan 15 2019</td>\n",
       "      <td>Jonas Anderson</td>\n",
       "      <td>Vindi Lan</td>\n",
       "      <td>Easy</td>\n",
       "      <td>9</td>\n",
       "      <td>8</td>\n",
       "      <td>Yellow</td>\n",
       "    </tr>\n",
       "    <tr>\n",
       "      <th>16</th>\n",
       "      <td>Jan 1 2019 - Jan 15 2019</td>\n",
       "      <td>Lucas Bane</td>\n",
       "      <td>Vindi Lan</td>\n",
       "      <td>Medium</td>\n",
       "      <td>10</td>\n",
       "      <td>5</td>\n",
       "      <td>Orange</td>\n",
       "    </tr>\n",
       "  </tbody>\n",
       "</table>\n",
       "</div>"
      ],
      "text/plain": [
       "               Sprint Period     Team Member       Team Leader  \\\n",
       "0   Jan 1 2019 - Jan 15 2019    Janet Chaves        Ben Fullen   \n",
       "1   Jan 1 2019 - Jan 15 2019   Henry Swansen        Ben Fullen   \n",
       "2   Jan 1 2019 - Jan 15 2019           Yu Li        Ben Fullen   \n",
       "3   Jan 1 2019 - Jan 15 2019    Bharat Datra        Ben Fullen   \n",
       "4   Jan 1 2019 - Jan 15 2019      Ali Khalin        Ben Fullen   \n",
       "5   Jan 1 2019 - Jan 15 2019    Rachel Braun        Ben Fullen   \n",
       "6   Jan 1 2019 - Jan 15 2019    Don Van Boen        Ben Fullen   \n",
       "7   Jan 1 2019 - Jan 15 2019     Ronal Valen        Ben Fullen   \n",
       "8   Jan 1 2019 - Jan 15 2019        Lucy Yen  Raymond Freedman   \n",
       "9   Jan 1 2019 - Jan 15 2019    Marcus Jones  Raymond Freedman   \n",
       "10  Jan 1 2019 - Jan 15 2019     Luke Ballen  Raymond Freedman   \n",
       "11  Jan 1 2019 - Jan 15 2019     Sithi Bavat         Vindi Lan   \n",
       "12  Jan 1 2019 - Jan 15 2019     Jenny Maree         Vindi Lan   \n",
       "13  Jan 1 2019 - Jan 15 2019  Khalid Jerkson         Vindi Lan   \n",
       "14  Jan 1 2019 - Jan 15 2019       Palat Siv         Vindi Lan   \n",
       "15  Jan 1 2019 - Jan 15 2019  Jonas Anderson         Vindi Lan   \n",
       "16  Jan 1 2019 - Jan 15 2019      Lucas Bane         Vindi Lan   \n",
       "\n",
       "   Tasks Difficulty Avg  Num Assigned Tasks  Num Completed Tasks  \\\n",
       "0                Medium                   8                    8   \n",
       "1                Medium                   8                    8   \n",
       "2             Difficult                   6                    6   \n",
       "3             Difficult                   6                    6   \n",
       "4                Medium                   8                    7   \n",
       "5             Difficult                   6                    6   \n",
       "6             Difficult                   6                    6   \n",
       "7                Medium                   8                    8   \n",
       "8                Medium                   8                    4   \n",
       "9             Difficult                   8                    1   \n",
       "10            Difficult                   8                    2   \n",
       "11               Medium                   9                    9   \n",
       "12               Medium                   9                    9   \n",
       "13                 Easy                   8                    5   \n",
       "14               Medium                   9                    9   \n",
       "15                 Easy                   9                    8   \n",
       "16               Medium                  10                    5   \n",
       "\n",
       "   Performance Level  \n",
       "0              Green  \n",
       "1              Green  \n",
       "2              Green  \n",
       "3              Green  \n",
       "4             Yellow  \n",
       "5              Green  \n",
       "6              Green  \n",
       "7              Green  \n",
       "8             Orange  \n",
       "9                Red  \n",
       "10               Red  \n",
       "11             Green  \n",
       "12             Green  \n",
       "13            Orange  \n",
       "14             Green  \n",
       "15            Yellow  \n",
       "16            Orange  "
      ]
     },
     "execution_count": 16,
     "metadata": {},
     "output_type": "execute_result"
    }
   ],
   "source": [
    "df_tperformance[(df_tperformance['Sprint Period'] == 'Jan 1 2019 - Jan 15 2019')]"
   ]
  },
  {
   "cell_type": "code",
   "execution_count": 17,
   "metadata": {},
   "outputs": [],
   "source": [
    "df_tperformance['Task Score'] = df_tperformance['Num Completed Tasks']/df_tperformance['Num Assigned Tasks']"
   ]
  },
  {
   "cell_type": "code",
   "execution_count": 18,
   "metadata": {},
   "outputs": [
    {
     "data": {
      "text/html": [
       "<div>\n",
       "<style scoped>\n",
       "    .dataframe tbody tr th:only-of-type {\n",
       "        vertical-align: middle;\n",
       "    }\n",
       "\n",
       "    .dataframe tbody tr th {\n",
       "        vertical-align: top;\n",
       "    }\n",
       "\n",
       "    .dataframe thead th {\n",
       "        text-align: right;\n",
       "    }\n",
       "</style>\n",
       "<table border=\"1\" class=\"dataframe\">\n",
       "  <thead>\n",
       "    <tr style=\"text-align: right;\">\n",
       "      <th></th>\n",
       "      <th>Sprint Period</th>\n",
       "      <th>Team Member</th>\n",
       "      <th>Team Leader</th>\n",
       "      <th>Tasks Difficulty Avg</th>\n",
       "      <th>Num Assigned Tasks</th>\n",
       "      <th>Num Completed Tasks</th>\n",
       "      <th>Performance Level</th>\n",
       "      <th>Task Score</th>\n",
       "    </tr>\n",
       "  </thead>\n",
       "  <tbody>\n",
       "    <tr>\n",
       "      <th>0</th>\n",
       "      <td>Jan 1 2019 - Jan 15 2019</td>\n",
       "      <td>Janet Chaves</td>\n",
       "      <td>Ben Fullen</td>\n",
       "      <td>Medium</td>\n",
       "      <td>8</td>\n",
       "      <td>8</td>\n",
       "      <td>Green</td>\n",
       "      <td>1.000</td>\n",
       "    </tr>\n",
       "    <tr>\n",
       "      <th>1</th>\n",
       "      <td>Jan 1 2019 - Jan 15 2019</td>\n",
       "      <td>Henry Swansen</td>\n",
       "      <td>Ben Fullen</td>\n",
       "      <td>Medium</td>\n",
       "      <td>8</td>\n",
       "      <td>8</td>\n",
       "      <td>Green</td>\n",
       "      <td>1.000</td>\n",
       "    </tr>\n",
       "    <tr>\n",
       "      <th>2</th>\n",
       "      <td>Jan 1 2019 - Jan 15 2019</td>\n",
       "      <td>Yu Li</td>\n",
       "      <td>Ben Fullen</td>\n",
       "      <td>Difficult</td>\n",
       "      <td>6</td>\n",
       "      <td>6</td>\n",
       "      <td>Green</td>\n",
       "      <td>1.000</td>\n",
       "    </tr>\n",
       "    <tr>\n",
       "      <th>3</th>\n",
       "      <td>Jan 1 2019 - Jan 15 2019</td>\n",
       "      <td>Bharat Datra</td>\n",
       "      <td>Ben Fullen</td>\n",
       "      <td>Difficult</td>\n",
       "      <td>6</td>\n",
       "      <td>6</td>\n",
       "      <td>Green</td>\n",
       "      <td>1.000</td>\n",
       "    </tr>\n",
       "    <tr>\n",
       "      <th>4</th>\n",
       "      <td>Jan 1 2019 - Jan 15 2019</td>\n",
       "      <td>Ali Khalin</td>\n",
       "      <td>Ben Fullen</td>\n",
       "      <td>Medium</td>\n",
       "      <td>8</td>\n",
       "      <td>7</td>\n",
       "      <td>Yellow</td>\n",
       "      <td>0.875</td>\n",
       "    </tr>\n",
       "  </tbody>\n",
       "</table>\n",
       "</div>"
      ],
      "text/plain": [
       "              Sprint Period    Team Member Team Leader Tasks Difficulty Avg  \\\n",
       "0  Jan 1 2019 - Jan 15 2019   Janet Chaves  Ben Fullen               Medium   \n",
       "1  Jan 1 2019 - Jan 15 2019  Henry Swansen  Ben Fullen               Medium   \n",
       "2  Jan 1 2019 - Jan 15 2019          Yu Li  Ben Fullen            Difficult   \n",
       "3  Jan 1 2019 - Jan 15 2019   Bharat Datra  Ben Fullen            Difficult   \n",
       "4  Jan 1 2019 - Jan 15 2019     Ali Khalin  Ben Fullen               Medium   \n",
       "\n",
       "   Num Assigned Tasks  Num Completed Tasks Performance Level  Task Score  \n",
       "0                   8                    8             Green       1.000  \n",
       "1                   8                    8             Green       1.000  \n",
       "2                   6                    6             Green       1.000  \n",
       "3                   6                    6             Green       1.000  \n",
       "4                   8                    7            Yellow       0.875  "
      ]
     },
     "execution_count": 18,
     "metadata": {},
     "output_type": "execute_result"
    }
   ],
   "source": [
    "df_tperformance.head()"
   ]
  },
  {
   "cell_type": "code",
   "execution_count": 20,
   "metadata": {},
   "outputs": [
    {
     "data": {
      "text/plain": [
       "<matplotlib.axes._subplots.AxesSubplot at 0x10bebeb50>"
      ]
     },
     "execution_count": 20,
     "metadata": {},
     "output_type": "execute_result"
    },
    {
     "data": {
      "image/png": "[encoded data removed]",
      "text/plain": [
       "<Figure size 432x288 with 1 Axes>"
      ]
     },
     "metadata": {
      "needs_background": "light"
     },
     "output_type": "display_data"
    }
   ],
   "source": [
    "pd.crosstab(df_tperformance['Sprint Period'], df_tperformance['Performance Level']).plot(kind = 'bar', stacked = True)"
   ]
  },
  {
   "cell_type": "code",
   "execution_count": null,
   "metadata": {},
   "outputs": [],
   "source": []
  }
 ],
 "metadata": {
  "kernelspec": {
   "display_name": "Python 3",
   "language": "python",
   "name": "python3"
  },
  "language_info": {
   "codemirror_mode": {
    "name": "ipython",
    "version": 3
   },
   "file_extension": ".py",
   "mimetype": "text/x-python",
   "name": "python",
   "nbconvert_exporter": "python",
   "pygments_lexer": "ipython3",
   "version": "3.7.6"
  }
 },
 "nbformat": 4,
 "nbformat_minor": 4
}
